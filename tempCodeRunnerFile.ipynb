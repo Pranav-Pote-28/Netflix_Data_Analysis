print(df["Release_Date"].dtypes)

df["Release_Date"] = df["Release_Date"].dt.year